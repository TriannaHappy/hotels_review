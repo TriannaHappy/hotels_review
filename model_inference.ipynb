{
  "nbformat": 4,
  "nbformat_minor": 0,
  "metadata": {
    "colab": {
      "provenance": []
    },
    "kernelspec": {
      "name": "python3",
      "display_name": "Python 3"
    },
    "language_info": {
      "name": "python"
    }
  },
  "cells": [
    {
      "cell_type": "code",
      "execution_count": 1,
      "metadata": {
        "colab": {
          "base_uri": "https://localhost:8080/"
        },
        "id": "7PxM0HO0mK3A",
        "outputId": "66e4d6ba-81f9-4c4c-d0a8-43c45c9b7367"
      },
      "outputs": [
        {
          "output_type": "stream",
          "name": "stdout",
          "text": [
            "Mounted at /content/drive\n"
          ]
        }
      ],
      "source": [
        "from google.colab import drive\n",
        "drive.mount('/content/drive')"
      ]
    },
    {
      "cell_type": "code",
      "source": [
        "# import libraries\n",
        "from tensorflow.keras.models import load_model\n",
        "import pandas as pd\n",
        "import re\n",
        "import string\n",
        "import numpy as np"
      ],
      "metadata": {
        "id": "pgiZ3ho9mOyb"
      },
      "execution_count": 20,
      "outputs": []
    },
    {
      "cell_type": "code",
      "source": [
        "# import libraries and download package of nltk\n",
        "import nltk\n",
        "from nltk.corpus import stopwords\n",
        "from nltk.tokenize import word_tokenize\n",
        "\n",
        "# Download package nltk\n",
        "nltk.download(['stopwords', 'punkt','averaged_perceptron_tagger',\n",
        "               'vader_lexicon', 'wordnet', 'omw-1.4'])"
      ],
      "metadata": {
        "colab": {
          "base_uri": "https://localhost:8080/"
        },
        "id": "PG-nV6aTtovm",
        "outputId": "bddf63f9-1d17-43e8-bc0b-bd06cc489190"
      },
      "execution_count": 29,
      "outputs": [
        {
          "output_type": "stream",
          "name": "stderr",
          "text": [
            "[nltk_data] Downloading package stopwords to /root/nltk_data...\n",
            "[nltk_data]   Unzipping corpora/stopwords.zip.\n",
            "[nltk_data] Downloading package punkt to /root/nltk_data...\n",
            "[nltk_data]   Unzipping tokenizers/punkt.zip.\n",
            "[nltk_data] Downloading package averaged_perceptron_tagger to\n",
            "[nltk_data]     /root/nltk_data...\n",
            "[nltk_data]   Unzipping taggers/averaged_perceptron_tagger.zip.\n",
            "[nltk_data] Downloading package vader_lexicon to /root/nltk_data...\n",
            "[nltk_data] Downloading package wordnet to /root/nltk_data...\n",
            "[nltk_data] Downloading package omw-1.4 to /root/nltk_data...\n"
          ]
        },
        {
          "output_type": "execute_result",
          "data": {
            "text/plain": [
              "True"
            ]
          },
          "metadata": {},
          "execution_count": 29
        }
      ]
    },
    {
      "cell_type": "code",
      "source": [
        "# load the model\n",
        "model_load1=load_model('/content/drive/MyDrive/model_lstm_hotel')"
      ],
      "metadata": {
        "id": "Nbw-K-cwmdke"
      },
      "execution_count": 3,
      "outputs": []
    },
    {
      "cell_type": "code",
      "source": [
        "# Create data inference\n",
        "data_inf={'Property Name': 'The Rembrandt', \n",
        "          'Review Title' : 'Great Mother and Daughter Trip', \n",
        "          'Review Text' : \"My mother and I stayed at the Rembrandt for 6 nights in December. We had a wonderful experience. Our room was nice and cozy. The daily breakfast was a great way to start the day. The hotel was decorated beautifully for the Christmas season. The hotel staff at the front desk, was excellent in booking my car service to and from the airport, and helping me navigate the train system, so we could take trips outside the city. The hotel was walking distance to Harrods ( which is a block away), Hyde Park, and museums. We even walked to Buckingham Palace and Big Ben. We did not use the tube, but there were multiple tube stations nearby. I would defiantly stay at this hotel again or any of it's sister properties. I had no complains. We have a lovely time.\",\n",
        "       'Location Of The Reviewer' : 'West Palm Beach, Florida', 'Date Of Review':'2016-02-08'}\n",
        "\n",
        "df=pd.DataFrame([data_inf])"
      ],
      "metadata": {
        "id": "JSAFTuspmi_J"
      },
      "execution_count": 11,
      "outputs": []
    },
    {
      "cell_type": "code",
      "source": [
        "# Get the rate and review text only to be analyzed\n",
        "data=df[['Review Text' ]]\n",
        "data.rename({'Review Rating': 'rate', 'Review Text': 'text'}, axis=1, inplace=True)\n",
        "data"
      ],
      "metadata": {
        "colab": {
          "base_uri": "https://localhost:8080/",
          "height": 168
        },
        "id": "7_CxlZdcsA7c",
        "outputId": "378b6c7b-bc88-413b-af8e-f2cd20ebcb78"
      },
      "execution_count": 14,
      "outputs": [
        {
          "output_type": "stream",
          "name": "stderr",
          "text": [
            "<ipython-input-14-5347510b958b>:3: SettingWithCopyWarning: \n",
            "A value is trying to be set on a copy of a slice from a DataFrame\n",
            "\n",
            "See the caveats in the documentation: https://pandas.pydata.org/pandas-docs/stable/user_guide/indexing.html#returning-a-view-versus-a-copy\n",
            "  data.rename({'Review Rating': 'rate', 'Review Text': 'text'}, axis=1, inplace=True)\n"
          ]
        },
        {
          "output_type": "execute_result",
          "data": {
            "text/plain": [
              "                                                text\n",
              "0  My mother and I stayed at the Rembrandt for 6 ..."
            ],
            "text/html": [
              "\n",
              "  <div id=\"df-1166f9c0-c072-40f1-9b93-2e304b9b4e02\">\n",
              "    <div class=\"colab-df-container\">\n",
              "      <div>\n",
              "<style scoped>\n",
              "    .dataframe tbody tr th:only-of-type {\n",
              "        vertical-align: middle;\n",
              "    }\n",
              "\n",
              "    .dataframe tbody tr th {\n",
              "        vertical-align: top;\n",
              "    }\n",
              "\n",
              "    .dataframe thead th {\n",
              "        text-align: right;\n",
              "    }\n",
              "</style>\n",
              "<table border=\"1\" class=\"dataframe\">\n",
              "  <thead>\n",
              "    <tr style=\"text-align: right;\">\n",
              "      <th></th>\n",
              "      <th>text</th>\n",
              "    </tr>\n",
              "  </thead>\n",
              "  <tbody>\n",
              "    <tr>\n",
              "      <th>0</th>\n",
              "      <td>My mother and I stayed at the Rembrandt for 6 ...</td>\n",
              "    </tr>\n",
              "  </tbody>\n",
              "</table>\n",
              "</div>\n",
              "      <button class=\"colab-df-convert\" onclick=\"convertToInteractive('df-1166f9c0-c072-40f1-9b93-2e304b9b4e02')\"\n",
              "              title=\"Convert this dataframe to an interactive table.\"\n",
              "              style=\"display:none;\">\n",
              "        \n",
              "  <svg xmlns=\"http://www.w3.org/2000/svg\" height=\"24px\"viewBox=\"0 0 24 24\"\n",
              "       width=\"24px\">\n",
              "    <path d=\"M0 0h24v24H0V0z\" fill=\"none\"/>\n",
              "    <path d=\"M18.56 5.44l.94 2.06.94-2.06 2.06-.94-2.06-.94-.94-2.06-.94 2.06-2.06.94zm-11 1L8.5 8.5l.94-2.06 2.06-.94-2.06-.94L8.5 2.5l-.94 2.06-2.06.94zm10 10l.94 2.06.94-2.06 2.06-.94-2.06-.94-.94-2.06-.94 2.06-2.06.94z\"/><path d=\"M17.41 7.96l-1.37-1.37c-.4-.4-.92-.59-1.43-.59-.52 0-1.04.2-1.43.59L10.3 9.45l-7.72 7.72c-.78.78-.78 2.05 0 2.83L4 21.41c.39.39.9.59 1.41.59.51 0 1.02-.2 1.41-.59l7.78-7.78 2.81-2.81c.8-.78.8-2.07 0-2.86zM5.41 20L4 18.59l7.72-7.72 1.47 1.35L5.41 20z\"/>\n",
              "  </svg>\n",
              "      </button>\n",
              "      \n",
              "  <style>\n",
              "    .colab-df-container {\n",
              "      display:flex;\n",
              "      flex-wrap:wrap;\n",
              "      gap: 12px;\n",
              "    }\n",
              "\n",
              "    .colab-df-convert {\n",
              "      background-color: #E8F0FE;\n",
              "      border: none;\n",
              "      border-radius: 50%;\n",
              "      cursor: pointer;\n",
              "      display: none;\n",
              "      fill: #1967D2;\n",
              "      height: 32px;\n",
              "      padding: 0 0 0 0;\n",
              "      width: 32px;\n",
              "    }\n",
              "\n",
              "    .colab-df-convert:hover {\n",
              "      background-color: #E2EBFA;\n",
              "      box-shadow: 0px 1px 2px rgba(60, 64, 67, 0.3), 0px 1px 3px 1px rgba(60, 64, 67, 0.15);\n",
              "      fill: #174EA6;\n",
              "    }\n",
              "\n",
              "    [theme=dark] .colab-df-convert {\n",
              "      background-color: #3B4455;\n",
              "      fill: #D2E3FC;\n",
              "    }\n",
              "\n",
              "    [theme=dark] .colab-df-convert:hover {\n",
              "      background-color: #434B5C;\n",
              "      box-shadow: 0px 1px 3px 1px rgba(0, 0, 0, 0.15);\n",
              "      filter: drop-shadow(0px 1px 2px rgba(0, 0, 0, 0.3));\n",
              "      fill: #FFFFFF;\n",
              "    }\n",
              "  </style>\n",
              "\n",
              "      <script>\n",
              "        const buttonEl =\n",
              "          document.querySelector('#df-1166f9c0-c072-40f1-9b93-2e304b9b4e02 button.colab-df-convert');\n",
              "        buttonEl.style.display =\n",
              "          google.colab.kernel.accessAllowed ? 'block' : 'none';\n",
              "\n",
              "        async function convertToInteractive(key) {\n",
              "          const element = document.querySelector('#df-1166f9c0-c072-40f1-9b93-2e304b9b4e02');\n",
              "          const dataTable =\n",
              "            await google.colab.kernel.invokeFunction('convertToInteractive',\n",
              "                                                     [key], {});\n",
              "          if (!dataTable) return;\n",
              "\n",
              "          const docLinkHtml = 'Like what you see? Visit the ' +\n",
              "            '<a target=\"_blank\" href=https://colab.research.google.com/notebooks/data_table.ipynb>data table notebook</a>'\n",
              "            + ' to learn more about interactive tables.';\n",
              "          element.innerHTML = '';\n",
              "          dataTable['output_type'] = 'display_data';\n",
              "          await google.colab.output.renderOutput(dataTable, element);\n",
              "          const docLink = document.createElement('div');\n",
              "          docLink.innerHTML = docLinkHtml;\n",
              "          element.appendChild(docLink);\n",
              "        }\n",
              "      </script>\n",
              "    </div>\n",
              "  </div>\n",
              "  "
            ]
          },
          "metadata": {},
          "execution_count": 14
        }
      ]
    },
    {
      "cell_type": "code",
      "source": [
        "# Change to lowercase\n",
        "\n",
        "teks = data.text[0]\n",
        "teks_lower = teks.lower()\n",
        "print (teks_lower)"
      ],
      "metadata": {
        "colab": {
          "base_uri": "https://localhost:8080/"
        },
        "id": "g7Rj-wQUsGAX",
        "outputId": "b6577766-d5a9-4058-c775-495ea435178f"
      },
      "execution_count": 16,
      "outputs": [
        {
          "output_type": "stream",
          "name": "stdout",
          "text": [
            "my mother and i stayed at the rembrandt for 6 nights in december. we had a wonderful experience. our room was nice and cozy. the daily breakfast was a great way to start the day. the hotel was decorated beautifully for the christmas season. the hotel staff at the front desk, was excellent in booking my car service to and from the airport, and helping me navigate the train system, so we could take trips outside the city. the hotel was walking distance to harrods ( which is a block away), hyde park, and museums. we even walked to buckingham palace and big ben. we did not use the tube, but there were multiple tube stations nearby. i would defiantly stay at this hotel again or any of it's sister properties. i had no complains. we have a lovely time.\n"
          ]
        }
      ]
    },
    {
      "cell_type": "code",
      "source": [
        "# check punctuation\n",
        "punctuation = re.findall(r'[^\\w\\s]', teks_lower)\n",
        "print (list(set(punctuation)))"
      ],
      "metadata": {
        "colab": {
          "base_uri": "https://localhost:8080/"
        },
        "id": "2feWNnHAs6MI",
        "outputId": "791cccc9-111e-4232-bf8e-228c7c8e7f4d"
      },
      "execution_count": 18,
      "outputs": [
        {
          "output_type": "stream",
          "name": "stdout",
          "text": [
            "['(', ')', ',', \"'\", '.']\n"
          ]
        }
      ]
    },
    {
      "cell_type": "code",
      "source": [
        "# remove punctuation\n",
        "\n",
        "teks_punc = teks_lower.translate(str.maketrans('', '', string.punctuation))\n",
        "teks_punc"
      ],
      "metadata": {
        "colab": {
          "base_uri": "https://localhost:8080/",
          "height": 87
        },
        "id": "8FDp2-e2tES3",
        "outputId": "02107710-5b25-4749-c246-3b23cef76b6f"
      },
      "execution_count": 21,
      "outputs": [
        {
          "output_type": "execute_result",
          "data": {
            "text/plain": [
              "'my mother and i stayed at the rembrandt for 6 nights in december we had a wonderful experience our room was nice and cozy the daily breakfast was a great way to start the day the hotel was decorated beautifully for the christmas season the hotel staff at the front desk was excellent in booking my car service to and from the airport and helping me navigate the train system so we could take trips outside the city the hotel was walking distance to harrods  which is a block away hyde park and museums we even walked to buckingham palace and big ben we did not use the tube but there were multiple tube stations nearby i would defiantly stay at this hotel again or any of its sister properties i had no complains we have a lovely time'"
            ],
            "application/vnd.google.colaboratory.intrinsic+json": {
              "type": "string"
            }
          },
          "metadata": {},
          "execution_count": 21
        }
      ]
    },
    {
      "cell_type": "code",
      "source": [
        "# remove Hashtag\n",
        "teks_punc = re.sub(\"#[A-Za-z0-9_]+\", \" \", teks_punc)"
      ],
      "metadata": {
        "id": "YEyciFz-tGjb"
      },
      "execution_count": 22,
      "outputs": []
    },
    {
      "cell_type": "code",
      "source": [
        "# remove \\n\n",
        "teks_punc = re.sub(r\"\\\\n\", \" \", teks_punc)"
      ],
      "metadata": {
        "id": "QX92FjKutWbf"
      },
      "execution_count": 23,
      "outputs": []
    },
    {
      "cell_type": "code",
      "source": [
        "# remove Whitespace\n",
        "teks_punc = teks_punc.strip()"
      ],
      "metadata": {
        "id": "rpEn6SQrtYlQ"
      },
      "execution_count": 24,
      "outputs": []
    },
    {
      "cell_type": "code",
      "source": [
        "# Remove Emoji, Mathematic symbols (ex : μ), etc\n",
        "teks_punc = re.sub(\"[^A-Za-z\\s']\", \" \", teks_punc)"
      ],
      "metadata": {
        "id": "GoFfIdoUtbUQ"
      },
      "execution_count": 25,
      "outputs": []
    },
    {
      "cell_type": "code",
      "source": [
        "# List Stopwords\n",
        "stpwds_en = list(set(stopwords.words('english')))\n",
        "\n",
        "# tokenize words\n",
        "tokens = word_tokenize(teks_punc)\n",
        "teks_stopwords = [word for word in tokens if word not in stpwds_en]"
      ],
      "metadata": {
        "id": "sjOqXcuttdQ-"
      },
      "execution_count": 30,
      "outputs": []
    },
    {
      "cell_type": "code",
      "source": [
        "# Define the stemmer and lemmatizer\n",
        "stemmer = nltk.stem.PorterStemmer()"
      ],
      "metadata": {
        "id": "HOA8qCu7tgXQ"
      },
      "execution_count": 31,
      "outputs": []
    },
    {
      "cell_type": "code",
      "source": [
        "# Stemming the sentence\n",
        "stemmed_words = []\n",
        "\n",
        "for word in teks_stopwords:\n",
        "    stemmed_words.append(stemmer.stem(word))\n",
        "    \n",
        "stemmed_sentence = \" \".join(stemmed_words)\n",
        "stemmed_sentence"
      ],
      "metadata": {
        "colab": {
          "base_uri": "https://localhost:8080/",
          "height": 70
        },
        "id": "HLUWRXgKt2Zz",
        "outputId": "9d7ab326-253f-4537-8b2f-2bee716a7b46"
      },
      "execution_count": 32,
      "outputs": [
        {
          "output_type": "execute_result",
          "data": {
            "text/plain": [
              "'mother stay rembrandt night decemb wonder experi room nice cozi daili breakfast great way start day hotel decor beauti christma season hotel staff front desk excel book car servic airport help navig train system could take trip outsid citi hotel walk distanc harrod block away hyde park museum even walk buckingham palac big ben use tube multipl tube station nearbi would defiantli stay hotel sister properti complain love time'"
            ],
            "application/vnd.google.colaboratory.intrinsic+json": {
              "type": "string"
            }
          },
          "metadata": {},
          "execution_count": 32
        }
      ]
    },
    {
      "cell_type": "code",
      "source": [
        "# Predict the text using the model\n",
        "y_pred=model_load1.predict(np.array(stemmed_sentence).reshape(-1))"
      ],
      "metadata": {
        "colab": {
          "base_uri": "https://localhost:8080/"
        },
        "id": "w0_lT-E0t4b1",
        "outputId": "69afe62d-9c95-4516-fd53-70257d00e10d"
      },
      "execution_count": 42,
      "outputs": [
        {
          "output_type": "stream",
          "name": "stdout",
          "text": [
            "1/1 [==============================] - 4s 4s/step\n"
          ]
        }
      ]
    },
    {
      "cell_type": "code",
      "source": [
        "if np.argmax(y_pred)==0:\n",
        "  print (\"This visitor will give us rate 1-2 star rating\")\n",
        "elif np.argmax(y_pred)==1:\n",
        "  print (\"This visitor will give us rate 3 star rating\")\n",
        "elif np.argmax(y_pred)==2:\n",
        "  print (\"This visitor will give us rate 4 star rating\")\n",
        "elif np.argmax(y_pred)==3:\n",
        "  print (\"This visitor will give us rate 5 star rating\")\n"
      ],
      "metadata": {
        "colab": {
          "base_uri": "https://localhost:8080/"
        },
        "id": "GKLecDEJuIYB",
        "outputId": "d6846869-1b80-402b-b73b-88e3b08622b1"
      },
      "execution_count": 47,
      "outputs": [
        {
          "output_type": "stream",
          "name": "stdout",
          "text": [
            "This visitor will give us rate 5 star rating\n"
          ]
        }
      ]
    }
  ]
}